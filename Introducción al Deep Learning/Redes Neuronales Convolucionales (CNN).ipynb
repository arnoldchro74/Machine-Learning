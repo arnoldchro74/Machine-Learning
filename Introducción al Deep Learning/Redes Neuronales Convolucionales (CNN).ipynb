{
  "nbformat": 4,
  "nbformat_minor": 0,
  "metadata": {
    "colab": {
      "provenance": []
    },
    "kernelspec": {
      "name": "python3",
      "display_name": "Python 3"
    },
    "language_info": {
      "name": "python"
    }
  },
  "cells": [
    {
      "cell_type": "markdown",
      "source": [
        "Este colab fue desarrollado por Arnold Charry Armero."
      ],
      "metadata": {
        "id": "o0wMZ-T8b3i-"
      }
    },
    {
      "cell_type": "markdown",
      "source": [
        "# Redes Neuronales Convolucionales (CNN)"
      ],
      "metadata": {
        "id": "pTR3vwapb7op"
      }
    },
    {
      "cell_type": "markdown",
      "source": [
        "Las Redes Neuronales Convolucionales (CNN) son un tipo de red neuronal profunda diseñada específicamente para procesar datos con una estructura de cuadrícula, como imágenes, vídeos o mapas de características. Estas redes se basan en los principios de las Redes Neuronales Artificiales (ANN), pero incorporan nuevas operaciones y capas que les permiten detectar patrones espaciales y jerárquicos de manera más eficiente y precisa. El procesamiento de una imagen en una CNN se puede dividir en varias etapas principales:\n",
        "\n",
        "1. Convolución:\n",
        "En esta primera fase, la red recibe la imagen en formato de píxeles y aplica sobre ella filtros o kernels, que son pequeñas matrices que recorren la imagen extrayendo patrones locales como bordes, texturas o formas. El resultado de esta operación es un mapa de características, el cual contiene información relevante sobre los patrones detectados en diferentes regiones de la imagen. A medida que la red avanza en profundidad, aprende características cada vez más complejas y abstractas. Matemáticamente, la operación de convolución entre una imagen \\(I\\) y un filtro \\(K\\) se expresa como:\n",
        "\n",
        "$$\n",
        "C(i, j) = \\sum_m \\sum_n I(i + m, j + n) \\, K(m, n)\n",
        "$$\n",
        "\n",
        "Donde:\n",
        "- $I(i + m, j + n)$ representa el valor del píxel en la posición $(i + m, j + n)$,\n",
        "- $K(m, n)$ representa el valor del filtro en la posición $(m, n)$,\n",
        "- $C(i, j)$ es el valor resultante en el mapa de características.\n",
        "\n",
        "2. Pooling:\n",
        "Después de la convolución, se aplica una capa de pooling para reducir la dimensión espacial de los mapas de características. Este proceso consiste en dividir la imagen en regiones pequeñas y reemplazarlas por un único valor representativo, generalmente el máximo (max pooling) o el promedio (average pooling). Esto permite reducir la cantidad de parámetros, mejorar la eficiencia computacional y mantener solo la información más importante, lo que también ayuda a evitar el sobreajuste. Por ejemplo, en max pooling el resultado $P$ sobre una región $\\Omega$ se define como:\n",
        "\n",
        "$$P = \\max_{(i,j) \\in \\Omega} C(i, j)$$\n",
        "\n",
        "\n",
        "3. Flattening:\n",
        "Una vez que la red ha extraído y resumido las características, la matriz resultante se convierte en un vector unidimensional mediante el proceso de flattening. Este vector sirve como entrada para las capas totalmente conectadas (fully connected) de la red, donde se realiza el proceso de clasificación final.\n",
        "\n",
        "A partir de aquí, la arquitectura sigue la estructura tradicional de una red neuronal:\n",
        "\n",
        "*   Capa de entrada: recibe el vector con las características extraídas.\n",
        "*   Capas ocultas: realizan combinaciones no lineales de dichas características para aprender relaciones complejas.\n",
        "*   Capa de salida: produce la predicción final.\n",
        "\n",
        "En tareas de clasificación de imágenes, la capa de salida suele utilizar la función de activación Softmax, que transforma los valores de salida en probabilidades normalizadas que suman 1, facilitando así la interpretación de la predicción. Esto matemáticamente se define de la siguiente manera,\n",
        "\n",
        "$$\\text{Softmax}(z_i) = \\frac{e^{z_i}}{\\sum_{j=1}^{K} e^{z_j}}$$\n",
        "\n",
        "donde:\n",
        "- $z_i$ es la salida del perceptrón correspondiente a la clase $i$,\n",
        "- $K$ es el número total de clases.\n",
        "\n",
        "Para entrenar la red, comúnmente se emplea la función de pérdida de entropía cruzada (cross-entropy loss), ya que mide con precisión la diferencia entre las distribuciones de probabilidad reales y las predichas, incentivando al optimizador a ajustar los pesos de manera más eficiente. Matemáticamente se define de la siguiente manera,\n",
        "\n",
        "$$\n",
        "L = - \\sum_{i=1}^{K} y_i \\log(\\hat{y}_i)\n",
        "$$\n",
        "\n",
        "Ahora se continúa con la implementación en código,"
      ],
      "metadata": {
        "id": "6yTw1gCCikjg"
      }
    },
    {
      "cell_type": "code",
      "source": [
        "# Se importan las librerias\n",
        "import numpy as np\n",
        "import matplotlib.pyplot as plt\n",
        "from keras.models import Sequential\n",
        "from keras.layers import Dense, Input\n",
        "from keras.layers import Conv2D\n",
        "from keras.layers import MaxPooling2D\n",
        "from keras.layers import Flatten\n",
        "from tensorflow.keras.preprocessing.image import ImageDataGenerator\n",
        "from sklearn.metrics import accuracy_score, confusion_matrix, classification_report, ConfusionMatrixDisplay"
      ],
      "metadata": {
        "id": "FjWYtdqBjz1z"
      },
      "execution_count": null,
      "outputs": []
    },
    {
      "cell_type": "markdown",
      "source": [
        "## Procesamiento de Imágenes"
      ],
      "metadata": {
        "id": "2MfYMuEi7KJg"
      }
    },
    {
      "cell_type": "markdown",
      "source": [
        "Primero se procesan las imágenes por medio de la libreria de Keras,"
      ],
      "metadata": {
        "id": "HFjYlQzcEXAF"
      }
    },
    {
      "cell_type": "code",
      "source": [
        "from google.colab import drive\n",
        "drive.mount('/content/drive')"
      ],
      "metadata": {
        "colab": {
          "base_uri": "https://localhost:8080/"
        },
        "id": "fiETRls_-EUd",
        "outputId": "548d863d-919f-4f57-9732-068a4f316895"
      },
      "execution_count": null,
      "outputs": [
        {
          "output_type": "stream",
          "name": "stdout",
          "text": [
            "Mounted at /content/drive\n"
          ]
        }
      ]
    },
    {
      "cell_type": "code",
      "source": [
        "# Se procesan las imágenes\n",
        "train_datagen = ImageDataGenerator(\n",
        "    rescale=1./255,\n",
        "    shear_range=0.2,\n",
        "    zoom_range=0.2,\n",
        "    horizontal_flip=True,\n",
        "    validation_split=0.2)\n",
        "\n",
        "test_datagen = ImageDataGenerator(rescale=1./255)\n",
        "\n",
        "# Se definen rutas\n",
        "train_path = '/content/drive/MyDrive/Machine Learning/Bases de Datos/dataset/training_set'\n",
        "test_path = '/content/drive/MyDrive/Machine Learning/Bases de Datos/dataset/test_set'\n",
        "\n",
        "# Generador de Entrenamiento\n",
        "train_set = train_datagen.flow_from_directory(\n",
        "    train_path,\n",
        "    target_size=(64, 64),\n",
        "    batch_size=32,\n",
        "    class_mode='categorical',\n",
        "    subset = 'training')\n",
        "\n",
        "# Generador de Validación\n",
        "validation_set = train_datagen.flow_from_directory(\n",
        "    train_path,\n",
        "    target_size=(64, 64),\n",
        "    batch_size=32,\n",
        "    class_mode='categorical',\n",
        "    subset='validation')\n",
        "\n",
        "# Generador de Test\n",
        "test_set = test_datagen.flow_from_directory(\n",
        "    test_path,\n",
        "    target_size=(64, 64),\n",
        "    batch_size=32,\n",
        "    class_mode='categorical',\n",
        "    shuffle=False)"
      ],
      "metadata": {
        "colab": {
          "base_uri": "https://localhost:8080/"
        },
        "id": "Xqlkfzh37Nvn",
        "outputId": "3221ce40-838e-4b43-da92-737b14fcb0bd"
      },
      "execution_count": null,
      "outputs": [
        {
          "output_type": "stream",
          "name": "stdout",
          "text": [
            "Found 6400 images belonging to 2 classes.\n",
            "Found 1600 images belonging to 2 classes.\n",
            "Found 2000 images belonging to 2 classes.\n"
          ]
        }
      ]
    },
    {
      "cell_type": "markdown",
      "source": [
        "## Entrenamiento el Modelo"
      ],
      "metadata": {
        "id": "aH-7ftBwrz-Q"
      }
    },
    {
      "cell_type": "markdown",
      "source": [
        "Se entrena el modelo con varias capas de convolución y max pooling, para después hacer flattening y pasar los valores a la Red Neuronal Convolucional (CNN)."
      ],
      "metadata": {
        "id": "w_-jy5sHEdKD"
      }
    },
    {
      "cell_type": "code",
      "source": [
        "# Inicializamos la red neuronal\n",
        "classifier = Sequential()\n",
        "classifier.add(Input(shape=(64, 64, 3)))"
      ],
      "metadata": {
        "id": "RicCsGD6tOsj"
      },
      "execution_count": null,
      "outputs": []
    },
    {
      "cell_type": "code",
      "source": [
        "# Paso 1 - Convolución\n",
        "classifier.add(Conv2D(filters = 32, kernel_size = (3, 3), activation = \"relu\"))"
      ],
      "metadata": {
        "id": "aKMsUqP53jIK"
      },
      "execution_count": null,
      "outputs": []
    },
    {
      "cell_type": "code",
      "source": [
        "# Paso 2 - Max Pooling\n",
        "classifier.add(MaxPooling2D(pool_size = (2, 2)))"
      ],
      "metadata": {
        "id": "Nu6_ZdsIzang"
      },
      "execution_count": null,
      "outputs": []
    },
    {
      "cell_type": "code",
      "source": [
        "# Paso 3 - Convolución Segunda Capa\n",
        "classifier.add(Conv2D(filters = 32, kernel_size = (3, 3), activation = \"relu\"))"
      ],
      "metadata": {
        "id": "4fABGWDGOkRU"
      },
      "execution_count": null,
      "outputs": []
    },
    {
      "cell_type": "code",
      "source": [
        "# Paso 4- Max Pooling Segunda Capa\n",
        "classifier.add(MaxPooling2D(pool_size = (2, 2)))"
      ],
      "metadata": {
        "id": "kExo1UapOn1R"
      },
      "execution_count": null,
      "outputs": []
    },
    {
      "cell_type": "code",
      "source": [
        "# Paso 5 - Flattening\n",
        "classifier.add(Flatten())"
      ],
      "metadata": {
        "id": "Ukk45VUl0Eor"
      },
      "execution_count": null,
      "outputs": []
    },
    {
      "cell_type": "code",
      "source": [
        "# Paso 6 - Full Connection\n",
        "classifier.add(Dense(units = 128, activation = \"relu\"))\n",
        "\n",
        "# Paso 7 - Capa de salida con Softmax (2 clases)\n",
        "classifier.add(Dense(units=2, activation='softmax'))"
      ],
      "metadata": {
        "id": "djDaOV0K1pmF"
      },
      "execution_count": null,
      "outputs": []
    },
    {
      "cell_type": "code",
      "source": [
        "# Compilar la Red Neuronal de Convolución (CNN)\n",
        "classifier.compile(optimizer='adam',\n",
        "              loss='categorical_crossentropy',\n",
        "              metrics=['accuracy'])"
      ],
      "metadata": {
        "id": "KvBdTNbf5eZp"
      },
      "execution_count": null,
      "outputs": []
    },
    {
      "cell_type": "code",
      "source": [
        "# Entrenamiento del modelo\n",
        "classifier.fit(train_set, epochs=20, validation_data=validation_set)"
      ],
      "metadata": {
        "colab": {
          "base_uri": "https://localhost:8080/"
        },
        "id": "dLWQ2BNY_dHV",
        "outputId": "2592cd8c-6180-4fa5-a9b7-06e8d3025dc7"
      },
      "execution_count": null,
      "outputs": [
        {
          "output_type": "stream",
          "name": "stderr",
          "text": [
            "/usr/local/lib/python3.12/dist-packages/keras/src/trainers/data_adapters/py_dataset_adapter.py:121: UserWarning: Your `PyDataset` class should call `super().__init__(**kwargs)` in its constructor. `**kwargs` can include `workers`, `use_multiprocessing`, `max_queue_size`. Do not pass these arguments to `fit()`, as they will be ignored.\n",
            "  self._warn_if_super_not_called()\n"
          ]
        },
        {
          "output_type": "stream",
          "name": "stdout",
          "text": [
            "Epoch 1/20\n",
            "\u001b[1m200/200\u001b[0m \u001b[32m━━━━━━━━━━━━━━━━━━━━\u001b[0m\u001b[37m\u001b[0m \u001b[1m1006s\u001b[0m 4s/step - accuracy: 0.5477 - loss: 0.6903 - val_accuracy: 0.6675 - val_loss: 0.6365\n",
            "Epoch 2/20\n",
            "\u001b[1m200/200\u001b[0m \u001b[32m━━━━━━━━━━━━━━━━━━━━\u001b[0m\u001b[37m\u001b[0m \u001b[1m81s\u001b[0m 406ms/step - accuracy: 0.6741 - loss: 0.6022 - val_accuracy: 0.6812 - val_loss: 0.5822\n",
            "Epoch 3/20\n",
            "\u001b[1m200/200\u001b[0m \u001b[32m━━━━━━━━━━━━━━━━━━━━\u001b[0m\u001b[37m\u001b[0m \u001b[1m81s\u001b[0m 403ms/step - accuracy: 0.7007 - loss: 0.5692 - val_accuracy: 0.7419 - val_loss: 0.5214\n",
            "Epoch 4/20\n",
            "\u001b[1m200/200\u001b[0m \u001b[32m━━━━━━━━━━━━━━━━━━━━\u001b[0m\u001b[37m\u001b[0m \u001b[1m88s\u001b[0m 439ms/step - accuracy: 0.7445 - loss: 0.5181 - val_accuracy: 0.7344 - val_loss: 0.5169\n",
            "Epoch 5/20\n",
            "\u001b[1m200/200\u001b[0m \u001b[32m━━━━━━━━━━━━━━━━━━━━\u001b[0m\u001b[37m\u001b[0m \u001b[1m80s\u001b[0m 400ms/step - accuracy: 0.7552 - loss: 0.5012 - val_accuracy: 0.7525 - val_loss: 0.4990\n",
            "Epoch 6/20\n",
            "\u001b[1m200/200\u001b[0m \u001b[32m━━━━━━━━━━━━━━━━━━━━\u001b[0m\u001b[37m\u001b[0m \u001b[1m79s\u001b[0m 393ms/step - accuracy: 0.7755 - loss: 0.4659 - val_accuracy: 0.7575 - val_loss: 0.4900\n",
            "Epoch 7/20\n",
            "\u001b[1m200/200\u001b[0m \u001b[32m━━━━━━━━━━━━━━━━━━━━\u001b[0m\u001b[37m\u001b[0m \u001b[1m80s\u001b[0m 400ms/step - accuracy: 0.7846 - loss: 0.4505 - val_accuracy: 0.7806 - val_loss: 0.4672\n",
            "Epoch 8/20\n",
            "\u001b[1m200/200\u001b[0m \u001b[32m━━━━━━━━━━━━━━━━━━━━\u001b[0m\u001b[37m\u001b[0m \u001b[1m79s\u001b[0m 394ms/step - accuracy: 0.7932 - loss: 0.4474 - val_accuracy: 0.7812 - val_loss: 0.4635\n",
            "Epoch 9/20\n",
            "\u001b[1m200/200\u001b[0m \u001b[32m━━━━━━━━━━━━━━━━━━━━\u001b[0m\u001b[37m\u001b[0m \u001b[1m80s\u001b[0m 399ms/step - accuracy: 0.7990 - loss: 0.4408 - val_accuracy: 0.7731 - val_loss: 0.4532\n",
            "Epoch 10/20\n",
            "\u001b[1m200/200\u001b[0m \u001b[32m━━━━━━━━━━━━━━━━━━━━\u001b[0m\u001b[37m\u001b[0m \u001b[1m88s\u001b[0m 442ms/step - accuracy: 0.8092 - loss: 0.4197 - val_accuracy: 0.7756 - val_loss: 0.4699\n",
            "Epoch 11/20\n",
            "\u001b[1m200/200\u001b[0m \u001b[32m━━━━━━━━━━━━━━━━━━━━\u001b[0m\u001b[37m\u001b[0m \u001b[1m80s\u001b[0m 402ms/step - accuracy: 0.8139 - loss: 0.4122 - val_accuracy: 0.7931 - val_loss: 0.4525\n",
            "Epoch 12/20\n",
            "\u001b[1m200/200\u001b[0m \u001b[32m━━━━━━━━━━━━━━━━━━━━\u001b[0m\u001b[37m\u001b[0m \u001b[1m79s\u001b[0m 393ms/step - accuracy: 0.8079 - loss: 0.4104 - val_accuracy: 0.7606 - val_loss: 0.4705\n",
            "Epoch 13/20\n",
            "\u001b[1m200/200\u001b[0m \u001b[32m━━━━━━━━━━━━━━━━━━━━\u001b[0m\u001b[37m\u001b[0m \u001b[1m82s\u001b[0m 408ms/step - accuracy: 0.8207 - loss: 0.3986 - val_accuracy: 0.7950 - val_loss: 0.4430\n",
            "Epoch 14/20\n",
            "\u001b[1m200/200\u001b[0m \u001b[32m━━━━━━━━━━━━━━━━━━━━\u001b[0m\u001b[37m\u001b[0m \u001b[1m81s\u001b[0m 407ms/step - accuracy: 0.8251 - loss: 0.3857 - val_accuracy: 0.7763 - val_loss: 0.4501\n",
            "Epoch 15/20\n",
            "\u001b[1m200/200\u001b[0m \u001b[32m━━━━━━━━━━━━━━━━━━━━\u001b[0m\u001b[37m\u001b[0m \u001b[1m80s\u001b[0m 399ms/step - accuracy: 0.8301 - loss: 0.3703 - val_accuracy: 0.7944 - val_loss: 0.4422\n",
            "Epoch 16/20\n",
            "\u001b[1m200/200\u001b[0m \u001b[32m━━━━━━━━━━━━━━━━━━━━\u001b[0m\u001b[37m\u001b[0m \u001b[1m81s\u001b[0m 403ms/step - accuracy: 0.8326 - loss: 0.3701 - val_accuracy: 0.7613 - val_loss: 0.4867\n",
            "Epoch 17/20\n",
            "\u001b[1m200/200\u001b[0m \u001b[32m━━━━━━━━━━━━━━━━━━━━\u001b[0m\u001b[37m\u001b[0m \u001b[1m88s\u001b[0m 441ms/step - accuracy: 0.8312 - loss: 0.3718 - val_accuracy: 0.7850 - val_loss: 0.4673\n",
            "Epoch 18/20\n",
            "\u001b[1m200/200\u001b[0m \u001b[32m━━━━━━━━━━━━━━━━━━━━\u001b[0m\u001b[37m\u001b[0m \u001b[1m80s\u001b[0m 402ms/step - accuracy: 0.8413 - loss: 0.3589 - val_accuracy: 0.8025 - val_loss: 0.4471\n",
            "Epoch 19/20\n",
            "\u001b[1m200/200\u001b[0m \u001b[32m━━━━━━━━━━━━━━━━━━━━\u001b[0m\u001b[37m\u001b[0m \u001b[1m78s\u001b[0m 391ms/step - accuracy: 0.8474 - loss: 0.3404 - val_accuracy: 0.7925 - val_loss: 0.4477\n",
            "Epoch 20/20\n",
            "\u001b[1m200/200\u001b[0m \u001b[32m━━━━━━━━━━━━━━━━━━━━\u001b[0m\u001b[37m\u001b[0m \u001b[1m80s\u001b[0m 400ms/step - accuracy: 0.8550 - loss: 0.3309 - val_accuracy: 0.7987 - val_loss: 0.4461\n"
          ]
        },
        {
          "output_type": "execute_result",
          "data": {
            "text/plain": [
              "<keras.src.callbacks.history.History at 0x7cace0624bf0>"
            ]
          },
          "metadata": {},
          "execution_count": 12
        }
      ]
    },
    {
      "cell_type": "code",
      "source": [
        "loss, acc = classifier.evaluate(test_set)\n",
        "print(f\"Precisión final en datos nuevos: {acc*100:.2f}%\")"
      ],
      "metadata": {
        "colab": {
          "base_uri": "https://localhost:8080/"
        },
        "id": "YeJrTxaKCcMW",
        "outputId": "aa5f979d-7a1f-47eb-ab63-5f5941937a43"
      },
      "execution_count": null,
      "outputs": [
        {
          "output_type": "stream",
          "name": "stdout",
          "text": [
            "\u001b[1m63/63\u001b[0m \u001b[32m━━━━━━━━━━━━━━━━━━━━\u001b[0m\u001b[37m\u001b[0m \u001b[1m399s\u001b[0m 6s/step - accuracy: 0.8019 - loss: 0.4699\n",
            "Precisión final en datos nuevos: 79.80%\n"
          ]
        }
      ]
    },
    {
      "cell_type": "code",
      "source": [
        "# Predicciones en forma de Softmax\n",
        "y_pred = classifier.predict(test_set)\n",
        "y_pred = np.argmax(y_pred, axis=1)\n",
        "# Se obtienen los valores de las etiquetas\n",
        "y_test = test_set.classes"
      ],
      "metadata": {
        "colab": {
          "base_uri": "https://localhost:8080/"
        },
        "id": "kbCbTyBvDsk6",
        "outputId": "338ec44d-bf75-4b62-e6aa-8e5c6320cfdd"
      },
      "execution_count": null,
      "outputs": [
        {
          "output_type": "stream",
          "name": "stderr",
          "text": [
            "/usr/local/lib/python3.12/dist-packages/keras/src/trainers/data_adapters/py_dataset_adapter.py:121: UserWarning: Your `PyDataset` class should call `super().__init__(**kwargs)` in its constructor. `**kwargs` can include `workers`, `use_multiprocessing`, `max_queue_size`. Do not pass these arguments to `fit()`, as they will be ignored.\n",
            "  self._warn_if_super_not_called()\n"
          ]
        },
        {
          "output_type": "stream",
          "name": "stdout",
          "text": [
            "\u001b[1m63/63\u001b[0m \u001b[32m━━━━━━━━━━━━━━━━━━━━\u001b[0m\u001b[37m\u001b[0m \u001b[1m12s\u001b[0m 192ms/step\n"
          ]
        }
      ]
    },
    {
      "cell_type": "markdown",
      "source": [
        "## Evaluación del Modelo"
      ],
      "metadata": {
        "id": "2C_Om-eJNSxI"
      }
    },
    {
      "cell_type": "markdown",
      "source": [
        "Se evalúan las predicciones del modelo,"
      ],
      "metadata": {
        "id": "hhrW1soXZ-nu"
      }
    },
    {
      "cell_type": "code",
      "source": [
        "# Obteniendo la precisión del modelo\n",
        "print('Accuracy:', accuracy_score(y_test, y_pred))"
      ],
      "metadata": {
        "colab": {
          "base_uri": "https://localhost:8080/"
        },
        "id": "tn4-_1aaNcLl",
        "outputId": "eb9e9a32-f1a2-4074-8363-1f64fed51768"
      },
      "execution_count": null,
      "outputs": [
        {
          "output_type": "stream",
          "name": "stdout",
          "text": [
            "Accuracy: 0.798\n"
          ]
        }
      ]
    },
    {
      "cell_type": "code",
      "source": [
        "# Matriz de confusión\n",
        "confusion_matrix(y_test,y_pred)"
      ],
      "metadata": {
        "colab": {
          "base_uri": "https://localhost:8080/"
        },
        "id": "y52jV_hoNcuP",
        "outputId": "42b1ebe1-95a5-416f-a6d5-e8fb137e4a0e"
      },
      "execution_count": null,
      "outputs": [
        {
          "output_type": "execute_result",
          "data": {
            "text/plain": [
              "array([[738, 262],\n",
              "       [142, 858]])"
            ]
          },
          "metadata": {},
          "execution_count": 22
        }
      ]
    },
    {
      "cell_type": "code",
      "source": [
        "# Visualizando la matriz de confusión\n",
        "cm = confusion_matrix(y_test, y_pred)\n",
        "disp = ConfusionMatrixDisplay(confusion_matrix=cm, display_labels = [0, 1])\n",
        "disp.plot(cmap=plt.cm.Blues, values_format='d')\n",
        "plt.show()"
      ],
      "metadata": {
        "colab": {
          "base_uri": "https://localhost:8080/",
          "height": 449
        },
        "id": "NOet1WVGNerz",
        "outputId": "d2f1e76b-1105-427d-91df-3c185c3108cb"
      },
      "execution_count": null,
      "outputs": [
        {
          "output_type": "display_data",
          "data": {
            "text/plain": [
              "<Figure size 640x480 with 2 Axes>"
            ],
            "image/png": "[encoded data removed]"
          },
          "metadata": {}
        }
      ]
    },
    {
      "cell_type": "code",
      "source": [
        "# Obteniendo el reporte de clasificación\n",
        "print(classification_report(y_test, y_pred))"
      ],
      "metadata": {
        "colab": {
          "base_uri": "https://localhost:8080/"
        },
        "id": "5XdHpTKBNiqD",
        "outputId": "94d24483-a397-4c91-8d07-54e048331baa"
      },
      "execution_count": null,
      "outputs": [
        {
          "output_type": "stream",
          "name": "stdout",
          "text": [
            "              precision    recall  f1-score   support\n",
            "\n",
            "           0       0.84      0.74      0.79      1000\n",
            "           1       0.77      0.86      0.81      1000\n",
            "\n",
            "    accuracy                           0.80      2000\n",
            "   macro avg       0.80      0.80      0.80      2000\n",
            "weighted avg       0.80      0.80      0.80      2000\n",
            "\n"
          ]
        }
      ]
    },
    {
      "cell_type": "markdown",
      "source": [
        "Se puede observar que el accuracy logra hasta un 80%, por lo que de cada 10 imágenes de perros o gatos, 8 se predicen de manera correcta. Es una muy buena Red Neuronal Convolucional (CNN). Con esto queda concluido el ejercicio."
      ],
      "metadata": {
        "id": "1ruGN8vRDQ0e"
      }
    },
    {
      "cell_type": "markdown",
      "source": [
        "## Referencias\n",
        "\n",
        "*   Jacinto, V. R. (2024). Machine learning: Fundamentos, algoritmos y aplicaciones para los negocios, industria y finanzas. Ediciones Díaz de Santos.\n",
        "*   Raschka, S., & Mirjalili, V. (2017). Python Machine Learning: Machine Learning and Deep Learning with Python, Scikit-learn, and TensorFlow.\n",
        "*   SuperDataScience. (2025, June 9). Machine Learning A-Z: Download codes and datasets - SuperDataScience | Machine Learning | AI | Data Science Career | Analytics | Success. http://superdatascience.com/machine-learning\n",
        "*   Vandeput, N. (2021). Data science for supply chain forecasting. de Gruyter."
      ],
      "metadata": {
        "id": "cZorAowxRZr_"
      }
    }
  ]
}